{
  "nbformat": 4,
  "nbformat_minor": 0,
  "metadata": {
    "colab": {
      "provenance": [],
      "gpuType": "T4"
    },
    "kernelspec": {
      "name": "python3",
      "display_name": "Python 3"
    },
    "language_info": {
      "name": "python"
    },
    "accelerator": "GPU"
  },
  "cells": [
    {
      "cell_type": "code",
      "source": [
        "!nvidia-smi"
      ],
      "metadata": {
        "colab": {
          "base_uri": "https://localhost:8080/"
        },
        "id": "-RHPHfPS-LZL",
        "outputId": "0414f4b4-c56a-481f-b2c5-91012d396e22"
      },
      "execution_count": null,
      "outputs": [
        {
          "output_type": "stream",
          "name": "stdout",
          "text": [
            "Mon Oct  7 10:42:07 2024       \n",
            "+---------------------------------------------------------------------------------------+\n",
            "| NVIDIA-SMI 535.104.05             Driver Version: 535.104.05   CUDA Version: 12.2     |\n",
            "|-----------------------------------------+----------------------+----------------------+\n",
            "| GPU  Name                 Persistence-M | Bus-Id        Disp.A | Volatile Uncorr. ECC |\n",
            "| Fan  Temp   Perf          Pwr:Usage/Cap |         Memory-Usage | GPU-Util  Compute M. |\n",
            "|                                         |                      |               MIG M. |\n",
            "|=========================================+======================+======================|\n",
            "|   0  Tesla T4                       Off | 00000000:00:04.0 Off |                    0 |\n",
            "| N/A   41C    P8               9W /  70W |      0MiB / 15360MiB |      0%      Default |\n",
            "|                                         |                      |                  N/A |\n",
            "+-----------------------------------------+----------------------+----------------------+\n",
            "                                                                                         \n",
            "+---------------------------------------------------------------------------------------+\n",
            "| Processes:                                                                            |\n",
            "|  GPU   GI   CI        PID   Type   Process name                            GPU Memory |\n",
            "|        ID   ID                                                             Usage      |\n",
            "|=======================================================================================|\n",
            "|  No running processes found                                                           |\n",
            "+---------------------------------------------------------------------------------------+\n"
          ]
        }
      ]
    },
    {
      "cell_type": "code",
      "source": [
        "!pip install numpy matplotlib"
      ],
      "metadata": {
        "colab": {
          "base_uri": "https://localhost:8080/"
        },
        "id": "qlLUeSGbFnek",
        "outputId": "2a6e6efa-43e6-4886-9244-fa905effca15"
      },
      "execution_count": null,
      "outputs": [
        {
          "output_type": "stream",
          "name": "stdout",
          "text": [
            "Requirement already satisfied: numpy in /usr/local/lib/python3.10/dist-packages (1.26.4)\n",
            "Requirement already satisfied: matplotlib in /usr/local/lib/python3.10/dist-packages (3.7.1)\n",
            "Requirement already satisfied: contourpy>=1.0.1 in /usr/local/lib/python3.10/dist-packages (from matplotlib) (1.3.0)\n",
            "Requirement already satisfied: cycler>=0.10 in /usr/local/lib/python3.10/dist-packages (from matplotlib) (0.12.1)\n",
            "Requirement already satisfied: fonttools>=4.22.0 in /usr/local/lib/python3.10/dist-packages (from matplotlib) (4.54.1)\n",
            "Requirement already satisfied: kiwisolver>=1.0.1 in /usr/local/lib/python3.10/dist-packages (from matplotlib) (1.4.7)\n",
            "Requirement already satisfied: packaging>=20.0 in /usr/local/lib/python3.10/dist-packages (from matplotlib) (24.1)\n",
            "Requirement already satisfied: pillow>=6.2.0 in /usr/local/lib/python3.10/dist-packages (from matplotlib) (10.4.0)\n",
            "Requirement already satisfied: pyparsing>=2.3.1 in /usr/local/lib/python3.10/dist-packages (from matplotlib) (3.1.4)\n",
            "Requirement already satisfied: python-dateutil>=2.7 in /usr/local/lib/python3.10/dist-packages (from matplotlib) (2.8.2)\n",
            "Requirement already satisfied: six>=1.5 in /usr/local/lib/python3.10/dist-packages (from python-dateutil>=2.7->matplotlib) (1.16.0)\n"
          ]
        }
      ]
    },
    {
      "cell_type": "code",
      "source": [
        "# Write CUDA kernel for Conway's Game of Life\n",
        "cuda_code = \"\"\"\n",
        "extern \"C\"\n",
        "__global__ void update(int *current, int *next, int width, int height) {\n",
        "    int x = blockIdx.x * blockDim.x + threadIdx.x;\n",
        "    int y = blockIdx.y * blockDim.y + threadIdx.y;\n",
        "\n",
        "    if (x < width && y < height) {\n",
        "        int alive_neighbors = 0;\n",
        "        for (int dx = -1; dx <= 1; dx++) {\n",
        "            for (int dy = -1; dy <= 1; dy++) {\n",
        "                if (dx == 0 && dy == 0) continue;\n",
        "                int nx = (x + dx + width) % width;\n",
        "                int ny = (y + dy + height) % height;\n",
        "                alive_neighbors += current[ny * width + nx];\n",
        "            }\n",
        "        }\n",
        "\n",
        "        int idx = y * width + x;\n",
        "        if (current[idx] == 1) {\n",
        "            next[idx] = (alive_neighbors == 2 || alive_neighbors == 3) ? 1 : 0;\n",
        "        } else {\n",
        "            next[idx] = (alive_neighbors == 3) ? 1 : 0;\n",
        "        }\n",
        "    }\n",
        "}\n",
        "\"\"\"\n",
        "\n",
        "# Save the CUDA code to a file\n",
        "with open('game_of_life.cu', 'w') as f:\n",
        "    f.write(cuda_code)\n"
      ],
      "metadata": {
        "id": "XQY1qJaHF_lF"
      },
      "execution_count": null,
      "outputs": []
    },
    {
      "cell_type": "code",
      "source": [
        "!nvcc game_of_life.cu -o game_of_life"
      ],
      "metadata": {
        "colab": {
          "base_uri": "https://localhost:8080/"
        },
        "id": "C_0qSLqvGHFt",
        "outputId": "d1c20076-e59d-4163-c877-cc9608e3fa4a"
      },
      "execution_count": null,
      "outputs": [
        {
          "output_type": "stream",
          "name": "stdout",
          "text": [
            "/usr/bin/ld: /usr/lib/gcc/x86_64-linux-gnu/11/../../../x86_64-linux-gnu/Scrt1.o: in function `_start':\n",
            "(.text+0x1b): undefined reference to `main'\n",
            "collect2: error: ld returned 1 exit status\n"
          ]
        }
      ]
    },
    {
      "cell_type": "code",
      "source": [
        "!pip install pycuda"
      ],
      "metadata": {
        "colab": {
          "base_uri": "https://localhost:8080/"
        },
        "id": "TPg_o4CJHGQb",
        "outputId": "8ddae3e6-7755-4a7c-b07b-086fd93e0ed5"
      },
      "execution_count": null,
      "outputs": [
        {
          "output_type": "stream",
          "name": "stdout",
          "text": [
            "Requirement already satisfied: pycuda in /usr/local/lib/python3.10/dist-packages (2024.1.2)\n",
            "Requirement already satisfied: pytools>=2011.2 in /usr/local/lib/python3.10/dist-packages (from pycuda) (2024.1.14)\n",
            "Requirement already satisfied: platformdirs>=2.2.0 in /usr/local/lib/python3.10/dist-packages (from pycuda) (4.3.6)\n",
            "Requirement already satisfied: mako in /usr/local/lib/python3.10/dist-packages (from pycuda) (1.3.5)\n",
            "Requirement already satisfied: typing-extensions>=4 in /usr/local/lib/python3.10/dist-packages (from pytools>=2011.2->pycuda) (4.12.2)\n",
            "Requirement already satisfied: MarkupSafe>=0.9.2 in /usr/local/lib/python3.10/dist-packages (from mako->pycuda) (2.1.5)\n"
          ]
        }
      ]
    },
    {
      "cell_type": "code",
      "source": [
        "# Import necessary libraries\n",
        "import numpy as np\n",
        "import matplotlib.pyplot as plt\n",
        "from IPython.display import clear_output\n",
        "import pycuda.driver as cuda\n",
        "from pycuda.compiler import SourceModule\n",
        "import pycuda.autoinit  # Automatically initializes CUDA context\n",
        "\n",
        "# Define the CUDA kernel for Conway's Game of Life\n",
        "cuda_code = \"\"\"\n",
        "extern \"C\"\n",
        "__global__ void update(int *current, int *next, int width, int height) {\n",
        "    int x = blockIdx.x * blockDim.x + threadIdx.x;\n",
        "    int y = blockIdx.y * blockDim.y + threadIdx.y;\n",
        "\n",
        "    if (x < width && y < height) {\n",
        "        int alive_neighbors = 0;\n",
        "        for (int dx = -1; dx <= 1; dx++) {\n",
        "            for (int dy = -1; dy <= 1; dy++) {\n",
        "                if (dx == 0 && dy == 0) continue; // Skip the current cell\n",
        "                int nx = (x + dx + width) % width; // Wrap around horizontally\n",
        "                int ny = (y + dy + height) % height; // Wrap around vertically\n",
        "                alive_neighbors += current[nx + ny * width];\n",
        "            }\n",
        "        }\n",
        "\n",
        "        int current_state = current[x + y * width];\n",
        "        if (current_state == 1 && (alive_neighbors < 2 || alive_neighbors > 3)) {\n",
        "            next[x + y * width] = 0; // Cell dies\n",
        "        } else if (current_state == 0 && alive_neighbors == 3) {\n",
        "            next[x + y * width] = 1; // Cell becomes alive\n",
        "        } else {\n",
        "            next[x + y * width] = current_state; // Stays the same\n",
        "        }\n",
        "    }\n",
        "}\n",
        "\"\"\"\n",
        "\n",
        "# Initialize parameters\n",
        "width, height = 100, 100  # Dimensions of the grid\n",
        "\n",
        "# Initialize the grid with random values (0s and 1s)\n",
        "initial_grid = np.random.randint(2, size=(width, height)).astype(np.int32)\n",
        "\n",
        "# Allocate memory on the GPU\n",
        "current_gpu = cuda.mem_alloc(initial_grid.nbytes)\n",
        "next_gpu = cuda.mem_alloc(initial_grid.nbytes)\n",
        "\n",
        "# Copy the initial grid to the GPU\n",
        "cuda.memcpy_htod(current_gpu, initial_grid)\n",
        "\n",
        "# Define block and grid sizes\n",
        "threads_per_block = (16, 16)  # Number of threads in each block\n",
        "blocks_per_grid = (width // threads_per_block[0] + 1, height // threads_per_block[1] + 1)\n",
        "\n",
        "# Compile the CUDA kernel\n",
        "mod = SourceModule(cuda_code)\n",
        "update = mod.get_function(\"update\")\n",
        "\n",
        "# Set up a stopping condition\n",
        "stop_simulation = False\n",
        "\n",
        "# Display the grid using Matplotlib in a loop\n",
        "try:\n",
        "    while not stop_simulation:  # Run until stop_simulation is set to True\n",
        "        next_grid = np.zeros_like(initial_grid)  # Initialize the next grid\n",
        "        cuda.memcpy_htod(next_gpu, next_grid)  # Copy the next grid to GPU\n",
        "\n",
        "        # Launch the CUDA kernel\n",
        "        update(current_gpu, next_gpu, np.int32(width), np.int32(height),\n",
        "               block=(threads_per_block[0], threads_per_block[1], 1),\n",
        "               grid=blocks_per_grid)\n",
        "\n",
        "        # Copy the next grid back to CPU\n",
        "        cuda.memcpy_dtoh(next_grid, next_gpu)\n",
        "\n",
        "        # Visualize the grid using Matplotlib\n",
        "        clear_output(wait=True)\n",
        "        plt.imshow(next_grid, cmap='binary')  # Show the grid\n",
        "        plt.title('Conway\\'s Game of Life')\n",
        "        plt.axis('off')  # Hide the axes\n",
        "        plt.show()\n",
        "\n",
        "        # Swap grids for the next iteration\n",
        "        current_gpu, next_gpu = next_gpu, current_gpu\n",
        "\n",
        "except KeyboardInterrupt:\n",
        "    print(\"Simulation stopped by user.\")\n",
        "\n",
        "except Exception as e:\n",
        "    print(f\"An error occurred: {e}\")\n",
        "\n",
        "# Finally, ensure that resources are cleaned up if needed\n",
        "print(\"Exiting simulation.\")\n"
      ],
      "metadata": {
        "colab": {
          "base_uri": "https://localhost:8080/",
          "height": 383
        },
        "id": "htUbgPYElFIL",
        "outputId": "53b51e09-9b44-4223-f656-e0e5f2a38031"
      },
      "execution_count": null,
      "outputs": [
        {
          "output_type": "error",
          "ename": "ModuleNotFoundError",
          "evalue": "No module named 'pycuda'",
          "traceback": [
            "\u001b[0;31m---------------------------------------------------------------------------\u001b[0m",
            "\u001b[0;31mModuleNotFoundError\u001b[0m                       Traceback (most recent call last)",
            "\u001b[0;32m<ipython-input-1-172b1d7b5dd9>\u001b[0m in \u001b[0;36m<cell line: 5>\u001b[0;34m()\u001b[0m\n\u001b[1;32m      3\u001b[0m \u001b[0;32mimport\u001b[0m \u001b[0mmatplotlib\u001b[0m\u001b[0;34m.\u001b[0m\u001b[0mpyplot\u001b[0m \u001b[0;32mas\u001b[0m \u001b[0mplt\u001b[0m\u001b[0;34m\u001b[0m\u001b[0;34m\u001b[0m\u001b[0m\n\u001b[1;32m      4\u001b[0m \u001b[0;32mfrom\u001b[0m \u001b[0mIPython\u001b[0m\u001b[0;34m.\u001b[0m\u001b[0mdisplay\u001b[0m \u001b[0;32mimport\u001b[0m \u001b[0mclear_output\u001b[0m\u001b[0;34m\u001b[0m\u001b[0;34m\u001b[0m\u001b[0m\n\u001b[0;32m----> 5\u001b[0;31m \u001b[0;32mimport\u001b[0m \u001b[0mpycuda\u001b[0m\u001b[0;34m.\u001b[0m\u001b[0mdriver\u001b[0m \u001b[0;32mas\u001b[0m \u001b[0mcuda\u001b[0m\u001b[0;34m\u001b[0m\u001b[0;34m\u001b[0m\u001b[0m\n\u001b[0m\u001b[1;32m      6\u001b[0m \u001b[0;32mfrom\u001b[0m \u001b[0mpycuda\u001b[0m\u001b[0;34m.\u001b[0m\u001b[0mcompiler\u001b[0m \u001b[0;32mimport\u001b[0m \u001b[0mSourceModule\u001b[0m\u001b[0;34m\u001b[0m\u001b[0;34m\u001b[0m\u001b[0m\n\u001b[1;32m      7\u001b[0m \u001b[0;32mimport\u001b[0m \u001b[0mpycuda\u001b[0m\u001b[0;34m.\u001b[0m\u001b[0mautoinit\u001b[0m  \u001b[0;31m# Automatically initializes CUDA context\u001b[0m\u001b[0;34m\u001b[0m\u001b[0;34m\u001b[0m\u001b[0m\n",
            "\u001b[0;31mModuleNotFoundError\u001b[0m: No module named 'pycuda'",
            "",
            "\u001b[0;31m---------------------------------------------------------------------------\u001b[0;32m\nNOTE: If your import is failing due to a missing package, you can\nmanually install dependencies using either !pip or !apt.\n\nTo view examples of installing some common dependencies, click the\n\"Open Examples\" button below.\n\u001b[0;31m---------------------------------------------------------------------------\u001b[0m\n"
          ],
          "errorDetails": {
            "actions": [
              {
                "action": "open_url",
                "actionText": "Open Examples",
                "url": "/notebooks/snippets/importing_libraries.ipynb"
              }
            ]
          }
        }
      ]
    }
  ]
}